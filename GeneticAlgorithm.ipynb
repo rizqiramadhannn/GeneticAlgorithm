{
  "nbformat": 4,
  "nbformat_minor": 0,
  "metadata": {
    "colab": {
      "name": "Source_code_tupro1_kelompok5_if4303.ipynb",
      "provenance": [],
      "collapsed_sections": []
    },
    "kernelspec": {
      "name": "python3",
      "display_name": "Python 3"
    },
    "language_info": {
      "name": "python"
    }
  },
  "cells": [
    {
      "cell_type": "markdown",
      "metadata": {
        "id": "4D0VFtNZWkiq"
      },
      "source": [
        "Nama Kelompok :\n",
        "\n",
        "\n",
        "\n",
        "1. Restu Aditya Rachman (1301190433)\n",
        "\n",
        "2. Muhamad Hasbi Ashshiddiqi (1301190476) \n",
        "\n",
        "3. Muhammad Rizqi Ramadhan (1301193325)\n",
        "\n"
      ]
    },
    {
      "cell_type": "code",
      "metadata": {
        "id": "uLhphJ5fvOqr"
      },
      "source": [
        "import random\n",
        "import math\n",
        "import matplotlib.pyplot as plt"
      ],
      "execution_count": 1,
      "outputs": []
    },
    {
      "cell_type": "code",
      "metadata": {
        "id": "UOFrfhT8xk_U"
      },
      "source": [
        "def initiate_population(n_population, len_chrom):\n",
        "  population = []\n",
        "  for i in range(n_population):\n",
        "    chromosom = []\n",
        "    for j in range(len_chrom):\n",
        "      chromosom.append(random.randint(0,1))\n",
        "    population.append(chromosom)\n",
        "\n",
        "  return population\n"
      ],
      "execution_count": 2,
      "outputs": []
    },
    {
      "cell_type": "code",
      "metadata": {
        "id": "SQBGudvZzK5T"
      },
      "source": [
        "def f(x, y):\n",
        "  return (math.cos(x**2)*math.sin(y**2)) + (x + y)"
      ],
      "execution_count": 3,
      "outputs": []
    },
    {
      "cell_type": "code",
      "metadata": {
        "id": "U-bpmhCkzkCf"
      },
      "source": [
        "def fitness(x, y):\n",
        "  return f(x, y)"
      ],
      "execution_count": 4,
      "outputs": []
    },
    {
      "cell_type": "code",
      "metadata": {
        "id": "TJ9jvPiOzlR_"
      },
      "source": [
        "def calculate_x_y(chrom, r):\n",
        "  top_x = 0\n",
        "  bottom_x = 0\n",
        "\n",
        "  top_y = 0\n",
        "  bottom_y = 0\n",
        "\n",
        "  half = len(chrom)//2\n",
        "\n",
        "  # dari kiri sampe tengah\n",
        "  chrom_x = chrom[:half]\n",
        "\n",
        "  # dari tengah sampe kanan\n",
        "  chrom_y = chrom[half:]\n",
        "\n",
        "  for i in range(len(chrom_x)):\n",
        "    top_x += chrom_x[i] * 2**-(i+1)\n",
        "    bottom_x += 2**-(i+1)\n",
        "  \n",
        "  for i in range(len(chrom_y)):\n",
        "    top_y += chrom_y[i] * 2**-(i+1)\n",
        "    bottom_y += 2**-(i+1)\n",
        "\n",
        "\n",
        "  x = r[\"x_min\"] + (r[\"x_max\"] - r[\"x_min\"])*top_x/bottom_x\n",
        "  y = r[\"y_min\"] + (r[\"y_max\"] - r[\"y_min\"])*top_y/bottom_y\n",
        "\n",
        "  return x,y"
      ],
      "execution_count": 5,
      "outputs": []
    },
    {
      "cell_type": "code",
      "metadata": {
        "id": "xBWzOvWf2sKl"
      },
      "source": [
        "def rws(population, fit_population):\n",
        "  total = 0\n",
        "\n",
        "  for indv in range(len(population)):\n",
        "    total += fit_population[indv]\n",
        "\n",
        "  r = random.random()\n",
        "  indv = 0\n",
        "  while r > 0 :\n",
        "    r-= fit_population[indv]/total\n",
        "    indv += 1\n",
        "  return indv-1"
      ],
      "execution_count": 6,
      "outputs": []
    },
    {
      "cell_type": "code",
      "metadata": {
        "id": "MN-KOkg_6Sdc"
      },
      "source": [
        "def parent_selection(population):\n",
        "  len_population = len(population)\n",
        "\n",
        "  fit_population = []\n",
        "  for indv in range(len_population):\n",
        "    x,y = calculate_x_y(population[indv], r)\n",
        "    fit_population.append(fitness(x,y))\n",
        "  \n",
        "  fit_max = max(fit_population)\n",
        "  fit_min = min(fit_population)\n",
        "\n",
        "  # normalisasi\n",
        "  for i in range(len_population):\n",
        "    fit_population[i] = (fit_population[i] - fit_min) / (fit_max - fit_min)\n",
        "\n",
        "  parent = []\n",
        "  while len(parent) < 2: \n",
        "    indv = rws(population, fit_population)\n",
        "    parent.append(population[indv])\n",
        "\n",
        "  return parent\n",
        "  "
      ],
      "execution_count": 7,
      "outputs": []
    },
    {
      "cell_type": "code",
      "metadata": {
        "id": "4ERHW8-L8vso"
      },
      "source": [
        "def crossover2point(parent):\n",
        "  len_chrom = len(parent[0])\n",
        "  \n",
        "  t1 = random.randint(1, len_chrom//3)\n",
        "  t2 = random.randint(t1+1, len_chrom-1)\n",
        "  \n",
        "  child = [[],[]]\n",
        "  child[0] = parent[0][:t1] + parent[1][t1:t2] + parent[0][t2:]\n",
        "  child[1] = parent[1][:t1] + parent[0][t1:t2] + parent[1][t2:]\n",
        "\n",
        "  return child"
      ],
      "execution_count": 8,
      "outputs": []
    },
    {
      "cell_type": "code",
      "metadata": {
        "id": "BL3ertlZ_NCB"
      },
      "source": [
        "def mutation(child, prob):\n",
        "  for i in range(len(child)):\n",
        "    for j in range(len(child[0])):\n",
        "      if (random.random() <= prob):\n",
        "        if child[i][j] == 0:\n",
        "          child[i][j] = 1\n",
        "        else:\n",
        "          child[i][j] = 0\n",
        "  return child"
      ],
      "execution_count": 9,
      "outputs": []
    },
    {
      "cell_type": "code",
      "metadata": {
        "id": "wWKuMApIDgIt"
      },
      "source": [
        ""
      ],
      "execution_count": 9,
      "outputs": []
    },
    {
      "cell_type": "code",
      "metadata": {
        "id": "-OrMguOUx6om",
        "colab": {
          "base_uri": "https://localhost:8080/"
        },
        "outputId": "f4bd28a4-c7ed-434a-a3a7-efc35504a677"
      },
      "source": [
        " r = {\n",
        "     \"x_max\" : 2,\n",
        "     \"x_min\" : -1,\n",
        "     \"y_max\" : 1,\n",
        "     \"y_min\" : -1\n",
        " }\n",
        " n_generation = 100\n",
        " prob_crossover = 0.8\n",
        " prob_mutation = 0.1\n",
        " len_chrom = 20\n",
        " len_population = 100\n",
        " n_elitism = 2\n",
        " population = initiate_population(len_population, len_chrom)\n",
        " best_gen = []\n",
        " count = 0\n",
        " i = 0\n",
        " while i < n_generation and count < 100:\n",
        "   fitness_population = []\n",
        "   for chrom in population:\n",
        "     x, y = calculate_x_y(chrom, r)\n",
        "     fitness_population.append(fitness(x,y))\n",
        "   best_gen.append(max(fitness_population))\n",
        "   if best_gen[i] == best_gen[i-1]:\n",
        "     count+=1\n",
        "\n",
        "   sorted_pop = [k for _, k in sorted(zip(fitness_population, population), reverse=True)]\n",
        "   \n",
        "   new_pop = sorted_pop[:n_elitism]\n",
        "   while len(new_pop) < len_population:\n",
        "     parent = parent_selection(population)\n",
        "     if random.random() < prob_crossover:\n",
        "       child = crossover2point(parent)\n",
        "       child = mutation(child, prob_mutation)\n",
        "     else:\n",
        "       child = parent + []\n",
        "     new_pop = new_pop + child\n",
        "   \n",
        "     \n",
        "   population = new_pop + []\n",
        "   i+=1\n",
        " print(f\"Generasi ke-{i}, Best = : {best_gen[i-1]}\")\n",
        "print(f\"Kromosom tebaik {sorted_pop[0]} \\ndengan x dan y {calculate_x_y(sorted_pop[0], r)}\")\n",
        "\n"
      ],
      "execution_count": 10,
      "outputs": [
        {
          "output_type": "stream",
          "text": [
            "Generasi ke-100, Best = : 2.481727432155131\n",
            "Kromosom tebaik [1, 0, 0, 1, 1, 1, 1, 1, 0, 1, 1, 1, 1, 1, 1, 1, 1, 1, 1, 1] \n",
            "dengan x dan y (0.8680351906158357, 1.0)\n"
          ],
          "name": "stdout"
        }
      ]
    },
    {
      "cell_type": "code",
      "metadata": {
        "colab": {
          "base_uri": "https://localhost:8080/",
          "height": 279
        },
        "id": "o3s4Ko1tCvWz",
        "outputId": "f96fabb6-0575-468c-9429-e4187c66db67"
      },
      "source": [
        "plt.plot(range(1, i+1), best_gen)\n",
        "plt.xlabel(\"Generasi\")\n",
        "plt.ylabel(\"Fitness\")\n",
        "plt.show()"
      ],
      "execution_count": 11,
      "outputs": [
        {
          "output_type": "display_data",
          "data": {
            "image/png": "[encoded data removed]",
            "text/plain": [
              "<Figure size 432x288 with 1 Axes>"
            ]
          },
          "metadata": {
            "tags": [],
            "needs_background": "light"
          }
        }
      ]
    },
    {
      "cell_type": "code",
      "metadata": {
        "id": "A5CWnrNJ7uw1"
      },
      "source": [
        ""
      ],
      "execution_count": 11,
      "outputs": []
    }
  ]
}